{
 "cells": [
  {
   "cell_type": "code",
   "execution_count": 1,
   "metadata": {},
   "outputs": [],
   "source": [
    "import Minkowski as mn\n",
    "import AdS as ads\n",
    "from mm_estimator import mm_dimension\n",
    "from longest_chain import *\n",
    "from interval import filter_interval\n",
    "import matplotlib.pyplot as plt\n",
    "import numpy as np\n",
    "%matplotlib tk\n",
    "from importlib import reload\n",
    "\n",
    "params= {\n",
    "   'axes.labelsize': 16,\n",
    "   'font.size': 18,\n",
    "   'legend.fontsize': 18,\n",
    "   'xtick.labelsize': 16,\n",
    "   'ytick.labelsize': 16,\n",
    "   'figure.figsize': [6, 6] \n",
    "   }\n",
    "plt.rcParams.update(params)\n",
    "\n",
    "def scatter(position,x=0,y=1):\n",
    "    plt.scatter(position[:,x],position[:,y])\n",
    "\n",
    "def plot_interval(l,interval_centre,half=True):\n",
    "   R=interval_centre[0]\n",
    "   t=interval_centre[1]\n",
    "   if half==True:\n",
    "      plt.plot([R,R+l/2,R],[t+l/2,t,t-l/2])\n",
    "   else:\n",
    "      plt.plot([R,R+l/2,R,R-l/2,R],[t+l/2,t,t-l/2,t,t+l/2])\n",
    "\n",
    "def plot_link(position,link,xindex=0,yindex=1):\n",
    "    for i in link:\n",
    "        for j in link[i]:\n",
    "            plt.plot([position[i,xindex],position[j,xindex]],[position[i,yindex],position[j,yindex]])"
   ]
  },
  {
   "cell_type": "code",
   "execution_count": 26,
   "metadata": {},
   "outputs": [],
   "source": [
    "N=100\n",
    "L=1\n",
    "d=2\n",
    "interval_centre=np.zeros(d)\n",
    "position=mn.sprinkle(N,L,d,False)\n",
    "link=find_link(position)\n",
    "# position_subset=filter_interval(position,L,interval_centre)\n",
    "scatter(position)\n",
    "plot_link(position,link)\n",
    "# scatter(position_subset)\n",
    "plt.show()"
   ]
  },
  {
   "cell_type": "code",
   "execution_count": 14,
   "metadata": {},
   "outputs": [],
   "source": [
    "#Sprinkle into AdS space\n",
    "N=1000\n",
    "L=1\n",
    "d=2\n",
    "R_0=0.2\n",
    "interval_centre=[R_0,0]\n",
    "for i in range(d-2):\n",
    "    interval_centre.append(0)\n",
    "position=ads.sprinkle(N,L,d,R_0,False,False)\n",
    "position_subset=filter_interval(position,L,interval_centre)\n",
    "plt.title(r'Sprinkling into AdS space at N=%s L=%s d=%s $R_0$=%s' %(N,L,d,R_0),fontsize=15)\n",
    "plt.xlabel('R')\n",
    "plt.ylabel('t')\n",
    "scatter(position)\n",
    "scatter(position_subset)\n",
    "plot_interval(L,interval_centre,True)\n",
    "plt.show()"
   ]
  }
 ],
 "metadata": {
  "kernelspec": {
   "display_name": ".venv",
   "language": "python",
   "name": "python3"
  },
  "language_info": {
   "codemirror_mode": {
    "name": "ipython",
    "version": 3
   },
   "file_extension": ".py",
   "mimetype": "text/x-python",
   "name": "python",
   "nbconvert_exporter": "python",
   "pygments_lexer": "ipython3",
   "version": "3.11.5"
  }
 },
 "nbformat": 4,
 "nbformat_minor": 2
}
